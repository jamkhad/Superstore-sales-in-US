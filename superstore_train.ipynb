{
 "cells": [
  {
   "cell_type": "code",
   "execution_count": 2,
   "id": "fb253a63",
   "metadata": {},
   "outputs": [
    {
     "data": {
      "text/html": [
       "<div>\n",
       "<style scoped>\n",
       "    .dataframe tbody tr th:only-of-type {\n",
       "        vertical-align: middle;\n",
       "    }\n",
       "\n",
       "    .dataframe tbody tr th {\n",
       "        vertical-align: top;\n",
       "    }\n",
       "\n",
       "    .dataframe thead th {\n",
       "        text-align: right;\n",
       "    }\n",
       "</style>\n",
       "<table border=\"1\" class=\"dataframe\">\n",
       "  <thead>\n",
       "    <tr style=\"text-align: right;\">\n",
       "      <th></th>\n",
       "      <th>Row ID</th>\n",
       "      <th>Order ID</th>\n",
       "      <th>Order Date</th>\n",
       "      <th>Ship Date</th>\n",
       "      <th>Ship Mode</th>\n",
       "      <th>Customer ID</th>\n",
       "      <th>Customer Name</th>\n",
       "      <th>Segment</th>\n",
       "      <th>Country</th>\n",
       "      <th>City</th>\n",
       "      <th>...</th>\n",
       "      <th>Postal Code</th>\n",
       "      <th>Region</th>\n",
       "      <th>Product ID</th>\n",
       "      <th>Category</th>\n",
       "      <th>Sub-Category</th>\n",
       "      <th>Product Name</th>\n",
       "      <th>Sales</th>\n",
       "      <th>Quantity</th>\n",
       "      <th>Discount</th>\n",
       "      <th>Profit</th>\n",
       "    </tr>\n",
       "  </thead>\n",
       "  <tbody>\n",
       "    <tr>\n",
       "      <th>0</th>\n",
       "      <td>1</td>\n",
       "      <td>CA-2016-152156</td>\n",
       "      <td>2016-11-08</td>\n",
       "      <td>2016-11-11</td>\n",
       "      <td>Second Class</td>\n",
       "      <td>CG-12520</td>\n",
       "      <td>Claire Gute</td>\n",
       "      <td>Consumer</td>\n",
       "      <td>United States</td>\n",
       "      <td>Henderson</td>\n",
       "      <td>...</td>\n",
       "      <td>42420</td>\n",
       "      <td>South</td>\n",
       "      <td>FUR-BO-10001798</td>\n",
       "      <td>Furniture</td>\n",
       "      <td>Bookcases</td>\n",
       "      <td>Bush Somerset Collection Bookcase</td>\n",
       "      <td>261.9600</td>\n",
       "      <td>2</td>\n",
       "      <td>0.00</td>\n",
       "      <td>41.9136</td>\n",
       "    </tr>\n",
       "    <tr>\n",
       "      <th>1</th>\n",
       "      <td>2</td>\n",
       "      <td>CA-2016-152156</td>\n",
       "      <td>2016-11-08</td>\n",
       "      <td>2016-11-11</td>\n",
       "      <td>Second Class</td>\n",
       "      <td>CG-12520</td>\n",
       "      <td>Claire Gute</td>\n",
       "      <td>Consumer</td>\n",
       "      <td>United States</td>\n",
       "      <td>Henderson</td>\n",
       "      <td>...</td>\n",
       "      <td>42420</td>\n",
       "      <td>South</td>\n",
       "      <td>FUR-CH-10000454</td>\n",
       "      <td>Furniture</td>\n",
       "      <td>Chairs</td>\n",
       "      <td>Hon Deluxe Fabric Upholstered Stacking Chairs,...</td>\n",
       "      <td>731.9400</td>\n",
       "      <td>3</td>\n",
       "      <td>0.00</td>\n",
       "      <td>219.5820</td>\n",
       "    </tr>\n",
       "    <tr>\n",
       "      <th>2</th>\n",
       "      <td>3</td>\n",
       "      <td>CA-2016-138688</td>\n",
       "      <td>2016-06-12</td>\n",
       "      <td>2016-06-16</td>\n",
       "      <td>Second Class</td>\n",
       "      <td>DV-13045</td>\n",
       "      <td>Darrin Van Huff</td>\n",
       "      <td>Corporate</td>\n",
       "      <td>United States</td>\n",
       "      <td>Los Angeles</td>\n",
       "      <td>...</td>\n",
       "      <td>90036</td>\n",
       "      <td>West</td>\n",
       "      <td>OFF-LA-10000240</td>\n",
       "      <td>Office Supplies</td>\n",
       "      <td>Labels</td>\n",
       "      <td>Self-Adhesive Address Labels for Typewriters b...</td>\n",
       "      <td>14.6200</td>\n",
       "      <td>2</td>\n",
       "      <td>0.00</td>\n",
       "      <td>6.8714</td>\n",
       "    </tr>\n",
       "    <tr>\n",
       "      <th>3</th>\n",
       "      <td>4</td>\n",
       "      <td>US-2015-108966</td>\n",
       "      <td>2015-10-11</td>\n",
       "      <td>2015-10-18</td>\n",
       "      <td>Standard Class</td>\n",
       "      <td>SO-20335</td>\n",
       "      <td>Sean O'Donnell</td>\n",
       "      <td>Consumer</td>\n",
       "      <td>United States</td>\n",
       "      <td>Fort Lauderdale</td>\n",
       "      <td>...</td>\n",
       "      <td>33311</td>\n",
       "      <td>South</td>\n",
       "      <td>FUR-TA-10000577</td>\n",
       "      <td>Furniture</td>\n",
       "      <td>Tables</td>\n",
       "      <td>Bretford CR4500 Series Slim Rectangular Table</td>\n",
       "      <td>957.5775</td>\n",
       "      <td>5</td>\n",
       "      <td>0.45</td>\n",
       "      <td>-383.0310</td>\n",
       "    </tr>\n",
       "    <tr>\n",
       "      <th>4</th>\n",
       "      <td>5</td>\n",
       "      <td>US-2015-108966</td>\n",
       "      <td>2015-10-11</td>\n",
       "      <td>2015-10-18</td>\n",
       "      <td>Standard Class</td>\n",
       "      <td>SO-20335</td>\n",
       "      <td>Sean O'Donnell</td>\n",
       "      <td>Consumer</td>\n",
       "      <td>United States</td>\n",
       "      <td>Fort Lauderdale</td>\n",
       "      <td>...</td>\n",
       "      <td>33311</td>\n",
       "      <td>South</td>\n",
       "      <td>OFF-ST-10000760</td>\n",
       "      <td>Office Supplies</td>\n",
       "      <td>Storage</td>\n",
       "      <td>Eldon Fold 'N Roll Cart System</td>\n",
       "      <td>22.3680</td>\n",
       "      <td>2</td>\n",
       "      <td>0.20</td>\n",
       "      <td>2.5164</td>\n",
       "    </tr>\n",
       "  </tbody>\n",
       "</table>\n",
       "<p>5 rows × 21 columns</p>\n",
       "</div>"
      ],
      "text/plain": [
       "   Row ID        Order ID  Order Date   Ship Date       Ship Mode Customer ID  \\\n",
       "0       1  CA-2016-152156  2016-11-08  2016-11-11    Second Class    CG-12520   \n",
       "1       2  CA-2016-152156  2016-11-08  2016-11-11    Second Class    CG-12520   \n",
       "2       3  CA-2016-138688  2016-06-12  2016-06-16    Second Class    DV-13045   \n",
       "3       4  US-2015-108966  2015-10-11  2015-10-18  Standard Class    SO-20335   \n",
       "4       5  US-2015-108966  2015-10-11  2015-10-18  Standard Class    SO-20335   \n",
       "\n",
       "     Customer Name    Segment        Country             City  ...  \\\n",
       "0      Claire Gute   Consumer  United States        Henderson  ...   \n",
       "1      Claire Gute   Consumer  United States        Henderson  ...   \n",
       "2  Darrin Van Huff  Corporate  United States      Los Angeles  ...   \n",
       "3   Sean O'Donnell   Consumer  United States  Fort Lauderdale  ...   \n",
       "4   Sean O'Donnell   Consumer  United States  Fort Lauderdale  ...   \n",
       "\n",
       "  Postal Code  Region       Product ID         Category Sub-Category  \\\n",
       "0       42420   South  FUR-BO-10001798        Furniture    Bookcases   \n",
       "1       42420   South  FUR-CH-10000454        Furniture       Chairs   \n",
       "2       90036    West  OFF-LA-10000240  Office Supplies       Labels   \n",
       "3       33311   South  FUR-TA-10000577        Furniture       Tables   \n",
       "4       33311   South  OFF-ST-10000760  Office Supplies      Storage   \n",
       "\n",
       "                                        Product Name     Sales  Quantity  \\\n",
       "0                  Bush Somerset Collection Bookcase  261.9600         2   \n",
       "1  Hon Deluxe Fabric Upholstered Stacking Chairs,...  731.9400         3   \n",
       "2  Self-Adhesive Address Labels for Typewriters b...   14.6200         2   \n",
       "3      Bretford CR4500 Series Slim Rectangular Table  957.5775         5   \n",
       "4                     Eldon Fold 'N Roll Cart System   22.3680         2   \n",
       "\n",
       "   Discount    Profit  \n",
       "0      0.00   41.9136  \n",
       "1      0.00  219.5820  \n",
       "2      0.00    6.8714  \n",
       "3      0.45 -383.0310  \n",
       "4      0.20    2.5164  \n",
       "\n",
       "[5 rows x 21 columns]"
      ]
     },
     "execution_count": 2,
     "metadata": {},
     "output_type": "execute_result"
    }
   ],
   "source": [
    "import pandas as pd\n",
    "import numpy as np\n",
    "import plotly.express as pe\n",
    "import plotly.express as px\n",
    "import plotly.graph_objects as pg\n",
    "import seaborn as sns\n",
    "#sns.set(style = 'dargrid')\n",
    "import matplotlib.pyplot as plt\n",
    "import warnings\n",
    "warnings.filterwarnings('ignore')\n",
    "import pandas as pd\n",
    "data = pd.read_csv('superstore_train.csv')\n",
    "data.head()"
   ]
  },
  {
   "cell_type": "code",
   "execution_count": 3,
   "id": "f6ee198c",
   "metadata": {},
   "outputs": [
    {
     "data": {
      "text/html": [
       "<div>\n",
       "<style scoped>\n",
       "    .dataframe tbody tr th:only-of-type {\n",
       "        vertical-align: middle;\n",
       "    }\n",
       "\n",
       "    .dataframe tbody tr th {\n",
       "        vertical-align: top;\n",
       "    }\n",
       "\n",
       "    .dataframe thead th {\n",
       "        text-align: right;\n",
       "    }\n",
       "</style>\n",
       "<table border=\"1\" class=\"dataframe\">\n",
       "  <thead>\n",
       "    <tr style=\"text-align: right;\">\n",
       "      <th></th>\n",
       "      <th>Sales</th>\n",
       "    </tr>\n",
       "    <tr>\n",
       "      <th>Segment</th>\n",
       "      <th></th>\n",
       "    </tr>\n",
       "  </thead>\n",
       "  <tbody>\n",
       "    <tr>\n",
       "      <th>Home Office</th>\n",
       "      <td>256.703379</td>\n",
       "    </tr>\n",
       "    <tr>\n",
       "      <th>Corporate</th>\n",
       "      <td>237.590630</td>\n",
       "    </tr>\n",
       "    <tr>\n",
       "      <th>Consumer</th>\n",
       "      <td>216.238811</td>\n",
       "    </tr>\n",
       "  </tbody>\n",
       "</table>\n",
       "</div>"
      ],
      "text/plain": [
       "                  Sales\n",
       "Segment                \n",
       "Home Office  256.703379\n",
       "Corporate    237.590630\n",
       "Consumer     216.238811"
      ]
     },
     "execution_count": 3,
     "metadata": {},
     "output_type": "execute_result"
    }
   ],
   "source": [
    "# What segment makes the most sales\n",
    "dt = data[['Segment', 'Sales']]\n",
    "dt.groupby(['Segment'])[['Sales']].mean().sort_values(by= 'Sales', ascending= False)"
   ]
  },
  {
   "cell_type": "code",
   "execution_count": 4,
   "id": "c61d9346",
   "metadata": {},
   "outputs": [
    {
     "data": {
      "text/html": [
       "<div>\n",
       "<style scoped>\n",
       "    .dataframe tbody tr th:only-of-type {\n",
       "        vertical-align: middle;\n",
       "    }\n",
       "\n",
       "    .dataframe tbody tr th {\n",
       "        vertical-align: top;\n",
       "    }\n",
       "\n",
       "    .dataframe thead th {\n",
       "        text-align: right;\n",
       "    }\n",
       "</style>\n",
       "<table border=\"1\" class=\"dataframe\">\n",
       "  <thead>\n",
       "    <tr style=\"text-align: right;\">\n",
       "      <th></th>\n",
       "      <th></th>\n",
       "      <th>Quantity</th>\n",
       "    </tr>\n",
       "    <tr>\n",
       "      <th>Segment</th>\n",
       "      <th>State</th>\n",
       "      <th></th>\n",
       "    </tr>\n",
       "  </thead>\n",
       "  <tbody>\n",
       "    <tr>\n",
       "      <th rowspan=\"5\" valign=\"top\">Consumer</th>\n",
       "      <th>Alabama</th>\n",
       "      <td>84</td>\n",
       "    </tr>\n",
       "    <tr>\n",
       "      <th>Arizona</th>\n",
       "      <td>345</td>\n",
       "    </tr>\n",
       "    <tr>\n",
       "      <th>Arkansas</th>\n",
       "      <td>134</td>\n",
       "    </tr>\n",
       "    <tr>\n",
       "      <th>California</th>\n",
       "      <td>3346</td>\n",
       "    </tr>\n",
       "    <tr>\n",
       "      <th>Colorado</th>\n",
       "      <td>355</td>\n",
       "    </tr>\n",
       "    <tr>\n",
       "      <th>...</th>\n",
       "      <th>...</th>\n",
       "      <td>...</td>\n",
       "    </tr>\n",
       "    <tr>\n",
       "      <th rowspan=\"5\" valign=\"top\">Corporate</th>\n",
       "      <th>Utah</th>\n",
       "      <td>43</td>\n",
       "    </tr>\n",
       "    <tr>\n",
       "      <th>Vermont</th>\n",
       "      <td>7</td>\n",
       "    </tr>\n",
       "    <tr>\n",
       "      <th>Virginia</th>\n",
       "      <td>197</td>\n",
       "    </tr>\n",
       "    <tr>\n",
       "      <th>Washington</th>\n",
       "      <td>391</td>\n",
       "    </tr>\n",
       "    <tr>\n",
       "      <th>Wisconsin</th>\n",
       "      <td>149</td>\n",
       "    </tr>\n",
       "  </tbody>\n",
       "</table>\n",
       "<p>91 rows × 1 columns</p>\n",
       "</div>"
      ],
      "text/plain": [
       "                      Quantity\n",
       "Segment   State               \n",
       "Consumer  Alabama           84\n",
       "          Arizona          345\n",
       "          Arkansas         134\n",
       "          California      3346\n",
       "          Colorado         355\n",
       "...                        ...\n",
       "Corporate Utah              43\n",
       "          Vermont            7\n",
       "          Virginia         197\n",
       "          Washington       391\n",
       "          Wisconsin        149\n",
       "\n",
       "[91 rows x 1 columns]"
      ]
     },
     "execution_count": 4,
     "metadata": {},
     "output_type": "execute_result"
    }
   ],
   "source": [
    "# What is the total quantity ordered for all consumer and corporate products by each state\n",
    "dt = data[['Quantity','Segment','State']]\n",
    "dt = dt.loc[(dt.Segment.isin(['Consumer','Corporate']) )]\n",
    "dt.groupby(['Segment','State'])[['Quantity']].sum()"
   ]
  },
  {
   "cell_type": "code",
   "execution_count": 5,
   "id": "5b9808d7",
   "metadata": {},
   "outputs": [
    {
     "data": {
      "text/html": [
       "<div>\n",
       "<style scoped>\n",
       "    .dataframe tbody tr th:only-of-type {\n",
       "        vertical-align: middle;\n",
       "    }\n",
       "\n",
       "    .dataframe tbody tr th {\n",
       "        vertical-align: top;\n",
       "    }\n",
       "\n",
       "    .dataframe thead th {\n",
       "        text-align: right;\n",
       "    }\n",
       "</style>\n",
       "<table border=\"1\" class=\"dataframe\">\n",
       "  <thead>\n",
       "    <tr style=\"text-align: right;\">\n",
       "      <th></th>\n",
       "      <th></th>\n",
       "      <th>Quantity</th>\n",
       "    </tr>\n",
       "    <tr>\n",
       "      <th>Segment</th>\n",
       "      <th>State</th>\n",
       "      <th></th>\n",
       "    </tr>\n",
       "  </thead>\n",
       "  <tbody>\n",
       "    <tr>\n",
       "      <th rowspan=\"5\" valign=\"top\">Consumer</th>\n",
       "      <th>Alabama</th>\n",
       "      <td>84</td>\n",
       "    </tr>\n",
       "    <tr>\n",
       "      <th>Arizona</th>\n",
       "      <td>345</td>\n",
       "    </tr>\n",
       "    <tr>\n",
       "      <th>Arkansas</th>\n",
       "      <td>134</td>\n",
       "    </tr>\n",
       "    <tr>\n",
       "      <th>California</th>\n",
       "      <td>3346</td>\n",
       "    </tr>\n",
       "    <tr>\n",
       "      <th>Colorado</th>\n",
       "      <td>355</td>\n",
       "    </tr>\n",
       "    <tr>\n",
       "      <th>...</th>\n",
       "      <th>...</th>\n",
       "      <td>...</td>\n",
       "    </tr>\n",
       "    <tr>\n",
       "      <th rowspan=\"5\" valign=\"top\">Corporate</th>\n",
       "      <th>Utah</th>\n",
       "      <td>43</td>\n",
       "    </tr>\n",
       "    <tr>\n",
       "      <th>Vermont</th>\n",
       "      <td>7</td>\n",
       "    </tr>\n",
       "    <tr>\n",
       "      <th>Virginia</th>\n",
       "      <td>197</td>\n",
       "    </tr>\n",
       "    <tr>\n",
       "      <th>Washington</th>\n",
       "      <td>391</td>\n",
       "    </tr>\n",
       "    <tr>\n",
       "      <th>Wisconsin</th>\n",
       "      <td>149</td>\n",
       "    </tr>\n",
       "  </tbody>\n",
       "</table>\n",
       "<p>91 rows × 1 columns</p>\n",
       "</div>"
      ],
      "text/plain": [
       "                      Quantity\n",
       "Segment   State               \n",
       "Consumer  Alabama           84\n",
       "          Arizona          345\n",
       "          Arkansas         134\n",
       "          California      3346\n",
       "          Colorado         355\n",
       "...                        ...\n",
       "Corporate Utah              43\n",
       "          Vermont            7\n",
       "          Virginia         197\n",
       "          Washington       391\n",
       "          Wisconsin        149\n",
       "\n",
       "[91 rows x 1 columns]"
      ]
     },
     "execution_count": 5,
     "metadata": {},
     "output_type": "execute_result"
    }
   ],
   "source": [
    "# What is the total quantity ordered for all consumer and corporate products by each state\n",
    "dt = data[['Quantity','Segment','State']]\n",
    "dt = dt.loc[(dt['Segment'] == 'Consumer')| (dt['Segment'] == 'Corporate')]\n",
    "dt.groupby(['Segment','State'])[['Quantity']].sum()"
   ]
  },
  {
   "cell_type": "code",
   "execution_count": 6,
   "id": "18fe2f46",
   "metadata": {},
   "outputs": [
    {
     "data": {
      "text/html": [
       "<div>\n",
       "<style scoped>\n",
       "    .dataframe tbody tr th:only-of-type {\n",
       "        vertical-align: middle;\n",
       "    }\n",
       "\n",
       "    .dataframe tbody tr th {\n",
       "        vertical-align: top;\n",
       "    }\n",
       "\n",
       "    .dataframe thead th {\n",
       "        text-align: right;\n",
       "    }\n",
       "</style>\n",
       "<table border=\"1\" class=\"dataframe\">\n",
       "  <thead>\n",
       "    <tr style=\"text-align: right;\">\n",
       "      <th></th>\n",
       "      <th></th>\n",
       "      <th>Sales</th>\n",
       "    </tr>\n",
       "    <tr>\n",
       "      <th>Segment</th>\n",
       "      <th>State</th>\n",
       "      <th></th>\n",
       "    </tr>\n",
       "  </thead>\n",
       "  <tbody>\n",
       "    <tr>\n",
       "      <th rowspan=\"46\" valign=\"top\">Consumer</th>\n",
       "      <th>Vermont</th>\n",
       "      <td>715.200000</td>\n",
       "    </tr>\n",
       "    <tr>\n",
       "      <th>Montana</th>\n",
       "      <td>487.984000</td>\n",
       "    </tr>\n",
       "    <tr>\n",
       "      <th>Delaware</th>\n",
       "      <td>421.796744</td>\n",
       "    </tr>\n",
       "    <tr>\n",
       "      <th>Nevada</th>\n",
       "      <td>407.879538</td>\n",
       "    </tr>\n",
       "    <tr>\n",
       "      <th>Minnesota</th>\n",
       "      <td>397.187333</td>\n",
       "    </tr>\n",
       "    <tr>\n",
       "      <th>District of Columbia</th>\n",
       "      <td>393.334286</td>\n",
       "    </tr>\n",
       "    <tr>\n",
       "      <th>Wisconsin</th>\n",
       "      <td>369.993548</td>\n",
       "    </tr>\n",
       "    <tr>\n",
       "      <th>Alabama</th>\n",
       "      <td>327.696364</td>\n",
       "    </tr>\n",
       "    <tr>\n",
       "      <th>Oklahoma</th>\n",
       "      <td>309.057308</td>\n",
       "    </tr>\n",
       "    <tr>\n",
       "      <th>Nebraska</th>\n",
       "      <td>290.292778</td>\n",
       "    </tr>\n",
       "    <tr>\n",
       "      <th>Mississippi</th>\n",
       "      <td>285.104615</td>\n",
       "    </tr>\n",
       "    <tr>\n",
       "      <th>New York</th>\n",
       "      <td>263.068289</td>\n",
       "    </tr>\n",
       "    <tr>\n",
       "      <th>Kentucky</th>\n",
       "      <td>256.334697</td>\n",
       "    </tr>\n",
       "    <tr>\n",
       "      <th>Virginia</th>\n",
       "      <td>255.654205</td>\n",
       "    </tr>\n",
       "    <tr>\n",
       "      <th>South Carolina</th>\n",
       "      <td>251.806818</td>\n",
       "    </tr>\n",
       "    <tr>\n",
       "      <th>Georgia</th>\n",
       "      <td>250.850133</td>\n",
       "    </tr>\n",
       "    <tr>\n",
       "      <th>Utah</th>\n",
       "      <td>247.973630</td>\n",
       "    </tr>\n",
       "    <tr>\n",
       "      <th>Washington</th>\n",
       "      <td>235.901123</td>\n",
       "    </tr>\n",
       "    <tr>\n",
       "      <th>Maryland</th>\n",
       "      <td>235.452220</td>\n",
       "    </tr>\n",
       "    <tr>\n",
       "      <th>New Jersey</th>\n",
       "      <td>230.634343</td>\n",
       "    </tr>\n",
       "    <tr>\n",
       "      <th>Pennsylvania</th>\n",
       "      <td>226.107478</td>\n",
       "    </tr>\n",
       "    <tr>\n",
       "      <th>Idaho</th>\n",
       "      <td>219.974333</td>\n",
       "    </tr>\n",
       "    <tr>\n",
       "      <th>Indiana</th>\n",
       "      <td>215.947101</td>\n",
       "    </tr>\n",
       "    <tr>\n",
       "      <th>Michigan</th>\n",
       "      <td>215.796330</td>\n",
       "    </tr>\n",
       "    <tr>\n",
       "      <th>Louisiana</th>\n",
       "      <td>213.027143</td>\n",
       "    </tr>\n",
       "    <tr>\n",
       "      <th>California</th>\n",
       "      <td>205.125949</td>\n",
       "    </tr>\n",
       "    <tr>\n",
       "      <th>Arkansas</th>\n",
       "      <td>198.655152</td>\n",
       "    </tr>\n",
       "    <tr>\n",
       "      <th>Rhode Island</th>\n",
       "      <td>193.628833</td>\n",
       "    </tr>\n",
       "    <tr>\n",
       "      <th>Ohio</th>\n",
       "      <td>189.602902</td>\n",
       "    </tr>\n",
       "    <tr>\n",
       "      <th>Iowa</th>\n",
       "      <td>188.878889</td>\n",
       "    </tr>\n",
       "    <tr>\n",
       "      <th>North Carolina</th>\n",
       "      <td>188.429400</td>\n",
       "    </tr>\n",
       "    <tr>\n",
       "      <th>Texas</th>\n",
       "      <td>183.468500</td>\n",
       "    </tr>\n",
       "    <tr>\n",
       "      <th>North Dakota</th>\n",
       "      <td>178.306000</td>\n",
       "    </tr>\n",
       "    <tr>\n",
       "      <th>Colorado</th>\n",
       "      <td>177.934279</td>\n",
       "    </tr>\n",
       "    <tr>\n",
       "      <th>Illinois</th>\n",
       "      <td>164.547408</td>\n",
       "    </tr>\n",
       "    <tr>\n",
       "      <th>Arizona</th>\n",
       "      <td>161.811236</td>\n",
       "    </tr>\n",
       "    <tr>\n",
       "      <th>New Hampshire</th>\n",
       "      <td>161.268000</td>\n",
       "    </tr>\n",
       "    <tr>\n",
       "      <th>Florida</th>\n",
       "      <td>160.013446</td>\n",
       "    </tr>\n",
       "    <tr>\n",
       "      <th>Tennessee</th>\n",
       "      <td>159.138134</td>\n",
       "    </tr>\n",
       "    <tr>\n",
       "      <th>New Mexico</th>\n",
       "      <td>158.753385</td>\n",
       "    </tr>\n",
       "    <tr>\n",
       "      <th>Missouri</th>\n",
       "      <td>155.997037</td>\n",
       "    </tr>\n",
       "    <tr>\n",
       "      <th>Connecticut</th>\n",
       "      <td>155.106469</td>\n",
       "    </tr>\n",
       "    <tr>\n",
       "      <th>Massachusetts</th>\n",
       "      <td>152.780029</td>\n",
       "    </tr>\n",
       "    <tr>\n",
       "      <th>Oregon</th>\n",
       "      <td>133.056351</td>\n",
       "    </tr>\n",
       "    <tr>\n",
       "      <th>Kansas</th>\n",
       "      <td>87.147500</td>\n",
       "    </tr>\n",
       "    <tr>\n",
       "      <th>South Dakota</th>\n",
       "      <td>20.230000</td>\n",
       "    </tr>\n",
       "  </tbody>\n",
       "</table>\n",
       "</div>"
      ],
      "text/plain": [
       "                                    Sales\n",
       "Segment  State                           \n",
       "Consumer Vermont               715.200000\n",
       "         Montana               487.984000\n",
       "         Delaware              421.796744\n",
       "         Nevada                407.879538\n",
       "         Minnesota             397.187333\n",
       "         District of Columbia  393.334286\n",
       "         Wisconsin             369.993548\n",
       "         Alabama               327.696364\n",
       "         Oklahoma              309.057308\n",
       "         Nebraska              290.292778\n",
       "         Mississippi           285.104615\n",
       "         New York              263.068289\n",
       "         Kentucky              256.334697\n",
       "         Virginia              255.654205\n",
       "         South Carolina        251.806818\n",
       "         Georgia               250.850133\n",
       "         Utah                  247.973630\n",
       "         Washington            235.901123\n",
       "         Maryland              235.452220\n",
       "         New Jersey            230.634343\n",
       "         Pennsylvania          226.107478\n",
       "         Idaho                 219.974333\n",
       "         Indiana               215.947101\n",
       "         Michigan              215.796330\n",
       "         Louisiana             213.027143\n",
       "         California            205.125949\n",
       "         Arkansas              198.655152\n",
       "         Rhode Island          193.628833\n",
       "         Ohio                  189.602902\n",
       "         Iowa                  188.878889\n",
       "         North Carolina        188.429400\n",
       "         Texas                 183.468500\n",
       "         North Dakota          178.306000\n",
       "         Colorado              177.934279\n",
       "         Illinois              164.547408\n",
       "         Arizona               161.811236\n",
       "         New Hampshire         161.268000\n",
       "         Florida               160.013446\n",
       "         Tennessee             159.138134\n",
       "         New Mexico            158.753385\n",
       "         Missouri              155.997037\n",
       "         Connecticut           155.106469\n",
       "         Massachusetts         152.780029\n",
       "         Oregon                133.056351\n",
       "         Kansas                 87.147500\n",
       "         South Dakota           20.230000"
      ]
     },
     "execution_count": 6,
     "metadata": {},
     "output_type": "execute_result"
    }
   ],
   "source": [
    "# What city sells the most Consumer Product\n",
    "dt = data[['Sales','Segment','State']]\n",
    "dt = dt.loc[(dt.Segment == 'Consumer' )]\n",
    "dt.groupby(['Segment','State'])[['Sales']].mean().sort_values(by= 'Sales', ascending= False)"
   ]
  },
  {
   "cell_type": "code",
   "execution_count": 7,
   "id": "f282da89",
   "metadata": {},
   "outputs": [
    {
     "data": {
      "text/html": [
       "<div>\n",
       "<style scoped>\n",
       "    .dataframe tbody tr th:only-of-type {\n",
       "        vertical-align: middle;\n",
       "    }\n",
       "\n",
       "    .dataframe tbody tr th {\n",
       "        vertical-align: top;\n",
       "    }\n",
       "\n",
       "    .dataframe thead th {\n",
       "        text-align: right;\n",
       "    }\n",
       "</style>\n",
       "<table border=\"1\" class=\"dataframe\">\n",
       "  <thead>\n",
       "    <tr style=\"text-align: right;\">\n",
       "      <th></th>\n",
       "      <th></th>\n",
       "      <th>Sales</th>\n",
       "    </tr>\n",
       "    <tr>\n",
       "      <th>Sub-Category</th>\n",
       "      <th>State</th>\n",
       "      <th></th>\n",
       "    </tr>\n",
       "  </thead>\n",
       "  <tbody>\n",
       "    <tr>\n",
       "      <th rowspan=\"41\" valign=\"top\">Chairs</th>\n",
       "      <th>Alabama</th>\n",
       "      <td>3915.540</td>\n",
       "    </tr>\n",
       "    <tr>\n",
       "      <th>Arizona</th>\n",
       "      <td>6040.760</td>\n",
       "    </tr>\n",
       "    <tr>\n",
       "      <th>Arkansas</th>\n",
       "      <td>1673.280</td>\n",
       "    </tr>\n",
       "    <tr>\n",
       "      <th>California</th>\n",
       "      <td>50716.368</td>\n",
       "    </tr>\n",
       "    <tr>\n",
       "      <th>Colorado</th>\n",
       "      <td>7579.344</td>\n",
       "    </tr>\n",
       "    <tr>\n",
       "      <th>Connecticut</th>\n",
       "      <td>2782.420</td>\n",
       "    </tr>\n",
       "    <tr>\n",
       "      <th>Delaware</th>\n",
       "      <td>1559.920</td>\n",
       "    </tr>\n",
       "    <tr>\n",
       "      <th>District of Columbia</th>\n",
       "      <td>1267.530</td>\n",
       "    </tr>\n",
       "    <tr>\n",
       "      <th>Florida</th>\n",
       "      <td>7174.624</td>\n",
       "    </tr>\n",
       "    <tr>\n",
       "      <th>Georgia</th>\n",
       "      <td>1736.380</td>\n",
       "    </tr>\n",
       "    <tr>\n",
       "      <th>Idaho</th>\n",
       "      <td>338.352</td>\n",
       "    </tr>\n",
       "    <tr>\n",
       "      <th>Illinois</th>\n",
       "      <td>11283.104</td>\n",
       "    </tr>\n",
       "    <tr>\n",
       "      <th>Indiana</th>\n",
       "      <td>4537.510</td>\n",
       "    </tr>\n",
       "    <tr>\n",
       "      <th>Iowa</th>\n",
       "      <td>1408.100</td>\n",
       "    </tr>\n",
       "    <tr>\n",
       "      <th>Kentucky</th>\n",
       "      <td>8531.610</td>\n",
       "    </tr>\n",
       "    <tr>\n",
       "      <th>Louisiana</th>\n",
       "      <td>802.340</td>\n",
       "    </tr>\n",
       "    <tr>\n",
       "      <th>Maryland</th>\n",
       "      <td>4056.940</td>\n",
       "    </tr>\n",
       "    <tr>\n",
       "      <th>Massachusetts</th>\n",
       "      <td>2261.880</td>\n",
       "    </tr>\n",
       "    <tr>\n",
       "      <th>Michigan</th>\n",
       "      <td>12610.160</td>\n",
       "    </tr>\n",
       "    <tr>\n",
       "      <th>Minnesota</th>\n",
       "      <td>6079.370</td>\n",
       "    </tr>\n",
       "    <tr>\n",
       "      <th>Mississippi</th>\n",
       "      <td>866.400</td>\n",
       "    </tr>\n",
       "    <tr>\n",
       "      <th>Nebraska</th>\n",
       "      <td>563.940</td>\n",
       "    </tr>\n",
       "    <tr>\n",
       "      <th>Nevada</th>\n",
       "      <td>674.352</td>\n",
       "    </tr>\n",
       "    <tr>\n",
       "      <th>New Jersey</th>\n",
       "      <td>1948.780</td>\n",
       "    </tr>\n",
       "    <tr>\n",
       "      <th>New Mexico</th>\n",
       "      <td>1114.192</td>\n",
       "    </tr>\n",
       "    <tr>\n",
       "      <th>New York</th>\n",
       "      <td>32837.103</td>\n",
       "    </tr>\n",
       "    <tr>\n",
       "      <th>North Carolina</th>\n",
       "      <td>1381.040</td>\n",
       "    </tr>\n",
       "    <tr>\n",
       "      <th>Ohio</th>\n",
       "      <td>8773.842</td>\n",
       "    </tr>\n",
       "    <tr>\n",
       "      <th>Oklahoma</th>\n",
       "      <td>2639.480</td>\n",
       "    </tr>\n",
       "    <tr>\n",
       "      <th>Oregon</th>\n",
       "      <td>3841.160</td>\n",
       "    </tr>\n",
       "    <tr>\n",
       "      <th>Pennsylvania</th>\n",
       "      <td>14791.861</td>\n",
       "    </tr>\n",
       "    <tr>\n",
       "      <th>Rhode Island</th>\n",
       "      <td>3194.080</td>\n",
       "    </tr>\n",
       "    <tr>\n",
       "      <th>South Carolina</th>\n",
       "      <td>2537.940</td>\n",
       "    </tr>\n",
       "    <tr>\n",
       "      <th>South Dakota</th>\n",
       "      <td>182.940</td>\n",
       "    </tr>\n",
       "    <tr>\n",
       "      <th>Tennessee</th>\n",
       "      <td>4759.088</td>\n",
       "    </tr>\n",
       "    <tr>\n",
       "      <th>Texas</th>\n",
       "      <td>18660.159</td>\n",
       "    </tr>\n",
       "    <tr>\n",
       "      <th>Vermont</th>\n",
       "      <td>715.200</td>\n",
       "    </tr>\n",
       "    <tr>\n",
       "      <th>Virginia</th>\n",
       "      <td>4671.780</td>\n",
       "    </tr>\n",
       "    <tr>\n",
       "      <th>Washington</th>\n",
       "      <td>14013.624</td>\n",
       "    </tr>\n",
       "    <tr>\n",
       "      <th>Wisconsin</th>\n",
       "      <td>8563.540</td>\n",
       "    </tr>\n",
       "    <tr>\n",
       "      <th>Wyoming</th>\n",
       "      <td>1603.136</td>\n",
       "    </tr>\n",
       "  </tbody>\n",
       "</table>\n",
       "</div>"
      ],
      "text/plain": [
       "                                       Sales\n",
       "Sub-Category State                          \n",
       "Chairs       Alabama                3915.540\n",
       "             Arizona                6040.760\n",
       "             Arkansas               1673.280\n",
       "             California            50716.368\n",
       "             Colorado               7579.344\n",
       "             Connecticut            2782.420\n",
       "             Delaware               1559.920\n",
       "             District of Columbia   1267.530\n",
       "             Florida                7174.624\n",
       "             Georgia                1736.380\n",
       "             Idaho                   338.352\n",
       "             Illinois              11283.104\n",
       "             Indiana                4537.510\n",
       "             Iowa                   1408.100\n",
       "             Kentucky               8531.610\n",
       "             Louisiana               802.340\n",
       "             Maryland               4056.940\n",
       "             Massachusetts          2261.880\n",
       "             Michigan              12610.160\n",
       "             Minnesota              6079.370\n",
       "             Mississippi             866.400\n",
       "             Nebraska                563.940\n",
       "             Nevada                  674.352\n",
       "             New Jersey             1948.780\n",
       "             New Mexico             1114.192\n",
       "             New York              32837.103\n",
       "             North Carolina         1381.040\n",
       "             Ohio                   8773.842\n",
       "             Oklahoma               2639.480\n",
       "             Oregon                 3841.160\n",
       "             Pennsylvania          14791.861\n",
       "             Rhode Island           3194.080\n",
       "             South Carolina         2537.940\n",
       "             South Dakota            182.940\n",
       "             Tennessee              4759.088\n",
       "             Texas                 18660.159\n",
       "             Vermont                 715.200\n",
       "             Virginia               4671.780\n",
       "             Washington            14013.624\n",
       "             Wisconsin              8563.540\n",
       "             Wyoming                1603.136"
      ]
     },
     "execution_count": 7,
     "metadata": {},
     "output_type": "execute_result"
    }
   ],
   "source": [
    "# What is the total sales made on Chairs in each state\n",
    "dt = data[['Sub-Category','State','Sales']]\n",
    "dt = dt.loc[(dt['Sub-Category'] == 'Chairs') ]\n",
    "dt.groupby(['Sub-Category','State'])[['Sales']].sum()"
   ]
  },
  {
   "cell_type": "code",
   "execution_count": 8,
   "id": "63e72466",
   "metadata": {},
   "outputs": [
    {
     "data": {
      "application/vnd.plotly.v1+json": {
       "config": {
        "plotlyServerURL": "https://plot.ly"
       },
       "data": [
        {
         "hovertemplate": "Sales=%{x}<br>Profit=%{y}<extra></extra>",
         "legendgroup": "",
         "marker": {
          "color": "#636efa",
          "symbol": "circle"
         },
         "mode": "markers",
         "name": "",
         "showlegend": false,
         "type": "scattergl",
         "x": {
          "bdata": "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",
          "dtype": "f8"
         },
         "xaxis": "x",
         "y": {
          "bdata": "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",
          "dtype": "f8"
         },
         "yaxis": "y"
        }
       ],
       "layout": {
        "legend": {
         "tracegroupgap": 0
        },
        "template": {
         "data": {
          "bar": [
           {
            "error_x": {
             "color": "#2a3f5f"
            },
            "error_y": {
             "color": "#2a3f5f"
            },
            "marker": {
             "line": {
              "color": "#E5ECF6",
              "width": 0.5
             },
             "pattern": {
              "fillmode": "overlay",
              "size": 10,
              "solidity": 0.2
             }
            },
            "type": "bar"
           }
          ],
          "barpolar": [
           {
            "marker": {
             "line": {
              "color": "#E5ECF6",
              "width": 0.5
             },
             "pattern": {
              "fillmode": "overlay",
              "size": 10,
              "solidity": 0.2
             }
            },
            "type": "barpolar"
           }
          ],
          "carpet": [
           {
            "aaxis": {
             "endlinecolor": "#2a3f5f",
             "gridcolor": "white",
             "linecolor": "white",
             "minorgridcolor": "white",
             "startlinecolor": "#2a3f5f"
            },
            "baxis": {
             "endlinecolor": "#2a3f5f",
             "gridcolor": "white",
             "linecolor": "white",
             "minorgridcolor": "white",
             "startlinecolor": "#2a3f5f"
            },
            "type": "carpet"
           }
          ],
          "choropleth": [
           {
            "colorbar": {
             "outlinewidth": 0,
             "ticks": ""
            },
            "type": "choropleth"
           }
          ],
          "contour": [
           {
            "colorbar": {
             "outlinewidth": 0,
             "ticks": ""
            },
            "colorscale": [
             [
              0,
              "#0d0887"
             ],
             [
              0.1111111111111111,
              "#46039f"
             ],
             [
              0.2222222222222222,
              "#7201a8"
             ],
             [
              0.3333333333333333,
              "#9c179e"
             ],
             [
              0.4444444444444444,
              "#bd3786"
             ],
             [
              0.5555555555555556,
              "#d8576b"
             ],
             [
              0.6666666666666666,
              "#ed7953"
             ],
             [
              0.7777777777777778,
              "#fb9f3a"
             ],
             [
              0.8888888888888888,
              "#fdca26"
             ],
             [
              1,
              "#f0f921"
             ]
            ],
            "type": "contour"
           }
          ],
          "contourcarpet": [
           {
            "colorbar": {
             "outlinewidth": 0,
             "ticks": ""
            },
            "type": "contourcarpet"
           }
          ],
          "heatmap": [
           {
            "colorbar": {
             "outlinewidth": 0,
             "ticks": ""
            },
            "colorscale": [
             [
              0,
              "#0d0887"
             ],
             [
              0.1111111111111111,
              "#46039f"
             ],
             [
              0.2222222222222222,
              "#7201a8"
             ],
             [
              0.3333333333333333,
              "#9c179e"
             ],
             [
              0.4444444444444444,
              "#bd3786"
             ],
             [
              0.5555555555555556,
              "#d8576b"
             ],
             [
              0.6666666666666666,
              "#ed7953"
             ],
             [
              0.7777777777777778,
              "#fb9f3a"
             ],
             [
              0.8888888888888888,
              "#fdca26"
             ],
             [
              1,
              "#f0f921"
             ]
            ],
            "type": "heatmap"
           }
          ],
          "histogram": [
           {
            "marker": {
             "pattern": {
              "fillmode": "overlay",
              "size": 10,
              "solidity": 0.2
             }
            },
            "type": "histogram"
           }
          ],
          "histogram2d": [
           {
            "colorbar": {
             "outlinewidth": 0,
             "ticks": ""
            },
            "colorscale": [
             [
              0,
              "#0d0887"
             ],
             [
              0.1111111111111111,
              "#46039f"
             ],
             [
              0.2222222222222222,
              "#7201a8"
             ],
             [
              0.3333333333333333,
              "#9c179e"
             ],
             [
              0.4444444444444444,
              "#bd3786"
             ],
             [
              0.5555555555555556,
              "#d8576b"
             ],
             [
              0.6666666666666666,
              "#ed7953"
             ],
             [
              0.7777777777777778,
              "#fb9f3a"
             ],
             [
              0.8888888888888888,
              "#fdca26"
             ],
             [
              1,
              "#f0f921"
             ]
            ],
            "type": "histogram2d"
           }
          ],
          "histogram2dcontour": [
           {
            "colorbar": {
             "outlinewidth": 0,
             "ticks": ""
            },
            "colorscale": [
             [
              0,
              "#0d0887"
             ],
             [
              0.1111111111111111,
              "#46039f"
             ],
             [
              0.2222222222222222,
              "#7201a8"
             ],
             [
              0.3333333333333333,
              "#9c179e"
             ],
             [
              0.4444444444444444,
              "#bd3786"
             ],
             [
              0.5555555555555556,
              "#d8576b"
             ],
             [
              0.6666666666666666,
              "#ed7953"
             ],
             [
              0.7777777777777778,
              "#fb9f3a"
             ],
             [
              0.8888888888888888,
              "#fdca26"
             ],
             [
              1,
              "#f0f921"
             ]
            ],
            "type": "histogram2dcontour"
           }
          ],
          "mesh3d": [
           {
            "colorbar": {
             "outlinewidth": 0,
             "ticks": ""
            },
            "type": "mesh3d"
           }
          ],
          "parcoords": [
           {
            "line": {
             "colorbar": {
              "outlinewidth": 0,
              "ticks": ""
             }
            },
            "type": "parcoords"
           }
          ],
          "pie": [
           {
            "automargin": true,
            "type": "pie"
           }
          ],
          "scatter": [
           {
            "fillpattern": {
             "fillmode": "overlay",
             "size": 10,
             "solidity": 0.2
            },
            "type": "scatter"
           }
          ],
          "scatter3d": [
           {
            "line": {
             "colorbar": {
              "outlinewidth": 0,
              "ticks": ""
             }
            },
            "marker": {
             "colorbar": {
              "outlinewidth": 0,
              "ticks": ""
             }
            },
            "type": "scatter3d"
           }
          ],
          "scattercarpet": [
           {
            "marker": {
             "colorbar": {
              "outlinewidth": 0,
              "ticks": ""
             }
            },
            "type": "scattercarpet"
           }
          ],
          "scattergeo": [
           {
            "marker": {
             "colorbar": {
              "outlinewidth": 0,
              "ticks": ""
             }
            },
            "type": "scattergeo"
           }
          ],
          "scattergl": [
           {
            "marker": {
             "colorbar": {
              "outlinewidth": 0,
              "ticks": ""
             }
            },
            "type": "scattergl"
           }
          ],
          "scattermap": [
           {
            "marker": {
             "colorbar": {
              "outlinewidth": 0,
              "ticks": ""
             }
            },
            "type": "scattermap"
           }
          ],
          "scattermapbox": [
           {
            "marker": {
             "colorbar": {
              "outlinewidth": 0,
              "ticks": ""
             }
            },
            "type": "scattermapbox"
           }
          ],
          "scatterpolar": [
           {
            "marker": {
             "colorbar": {
              "outlinewidth": 0,
              "ticks": ""
             }
            },
            "type": "scatterpolar"
           }
          ],
          "scatterpolargl": [
           {
            "marker": {
             "colorbar": {
              "outlinewidth": 0,
              "ticks": ""
             }
            },
            "type": "scatterpolargl"
           }
          ],
          "scatterternary": [
           {
            "marker": {
             "colorbar": {
              "outlinewidth": 0,
              "ticks": ""
             }
            },
            "type": "scatterternary"
           }
          ],
          "surface": [
           {
            "colorbar": {
             "outlinewidth": 0,
             "ticks": ""
            },
            "colorscale": [
             [
              0,
              "#0d0887"
             ],
             [
              0.1111111111111111,
              "#46039f"
             ],
             [
              0.2222222222222222,
              "#7201a8"
             ],
             [
              0.3333333333333333,
              "#9c179e"
             ],
             [
              0.4444444444444444,
              "#bd3786"
             ],
             [
              0.5555555555555556,
              "#d8576b"
             ],
             [
              0.6666666666666666,
              "#ed7953"
             ],
             [
              0.7777777777777778,
              "#fb9f3a"
             ],
             [
              0.8888888888888888,
              "#fdca26"
             ],
             [
              1,
              "#f0f921"
             ]
            ],
            "type": "surface"
           }
          ],
          "table": [
           {
            "cells": {
             "fill": {
              "color": "#EBF0F8"
             },
             "line": {
              "color": "white"
             }
            },
            "header": {
             "fill": {
              "color": "#C8D4E3"
             },
             "line": {
              "color": "white"
             }
            },
            "type": "table"
           }
          ]
         },
         "layout": {
          "annotationdefaults": {
           "arrowcolor": "#2a3f5f",
           "arrowhead": 0,
           "arrowwidth": 1
          },
          "autotypenumbers": "strict",
          "coloraxis": {
           "colorbar": {
            "outlinewidth": 0,
            "ticks": ""
           }
          },
          "colorscale": {
           "diverging": [
            [
             0,
             "#8e0152"
            ],
            [
             0.1,
             "#c51b7d"
            ],
            [
             0.2,
             "#de77ae"
            ],
            [
             0.3,
             "#f1b6da"
            ],
            [
             0.4,
             "#fde0ef"
            ],
            [
             0.5,
             "#f7f7f7"
            ],
            [
             0.6,
             "#e6f5d0"
            ],
            [
             0.7,
             "#b8e186"
            ],
            [
             0.8,
             "#7fbc41"
            ],
            [
             0.9,
             "#4d9221"
            ],
            [
             1,
             "#276419"
            ]
           ],
           "sequential": [
            [
             0,
             "#0d0887"
            ],
            [
             0.1111111111111111,
             "#46039f"
            ],
            [
             0.2222222222222222,
             "#7201a8"
            ],
            [
             0.3333333333333333,
             "#9c179e"
            ],
            [
             0.4444444444444444,
             "#bd3786"
            ],
            [
             0.5555555555555556,
             "#d8576b"
            ],
            [
             0.6666666666666666,
             "#ed7953"
            ],
            [
             0.7777777777777778,
             "#fb9f3a"
            ],
            [
             0.8888888888888888,
             "#fdca26"
            ],
            [
             1,
             "#f0f921"
            ]
           ],
           "sequentialminus": [
            [
             0,
             "#0d0887"
            ],
            [
             0.1111111111111111,
             "#46039f"
            ],
            [
             0.2222222222222222,
             "#7201a8"
            ],
            [
             0.3333333333333333,
             "#9c179e"
            ],
            [
             0.4444444444444444,
             "#bd3786"
            ],
            [
             0.5555555555555556,
             "#d8576b"
            ],
            [
             0.6666666666666666,
             "#ed7953"
            ],
            [
             0.7777777777777778,
             "#fb9f3a"
            ],
            [
             0.8888888888888888,
             "#fdca26"
            ],
            [
             1,
             "#f0f921"
            ]
           ]
          },
          "colorway": [
           "#636efa",
           "#EF553B",
           "#00cc96",
           "#ab63fa",
           "#FFA15A",
           "#19d3f3",
           "#FF6692",
           "#B6E880",
           "#FF97FF",
           "#FECB52"
          ],
          "font": {
           "color": "#2a3f5f"
          },
          "geo": {
           "bgcolor": "white",
           "lakecolor": "white",
           "landcolor": "#E5ECF6",
           "showlakes": true,
           "showland": true,
           "subunitcolor": "white"
          },
          "hoverlabel": {
           "align": "left"
          },
          "hovermode": "closest",
          "mapbox": {
           "style": "light"
          },
          "paper_bgcolor": "white",
          "plot_bgcolor": "#E5ECF6",
          "polar": {
           "angularaxis": {
            "gridcolor": "white",
            "linecolor": "white",
            "ticks": ""
           },
           "bgcolor": "#E5ECF6",
           "radialaxis": {
            "gridcolor": "white",
            "linecolor": "white",
            "ticks": ""
           }
          },
          "scene": {
           "xaxis": {
            "backgroundcolor": "#E5ECF6",
            "gridcolor": "white",
            "gridwidth": 2,
            "linecolor": "white",
            "showbackground": true,
            "ticks": "",
            "zerolinecolor": "white"
           },
           "yaxis": {
            "backgroundcolor": "#E5ECF6",
            "gridcolor": "white",
            "gridwidth": 2,
            "linecolor": "white",
            "showbackground": true,
            "ticks": "",
            "zerolinecolor": "white"
           },
           "zaxis": {
            "backgroundcolor": "#E5ECF6",
            "gridcolor": "white",
            "gridwidth": 2,
            "linecolor": "white",
            "showbackground": true,
            "ticks": "",
            "zerolinecolor": "white"
           }
          },
          "shapedefaults": {
           "line": {
            "color": "#2a3f5f"
           }
          },
          "ternary": {
           "aaxis": {
            "gridcolor": "white",
            "linecolor": "white",
            "ticks": ""
           },
           "baxis": {
            "gridcolor": "white",
            "linecolor": "white",
            "ticks": ""
           },
           "bgcolor": "#E5ECF6",
           "caxis": {
            "gridcolor": "white",
            "linecolor": "white",
            "ticks": ""
           }
          },
          "title": {
           "x": 0.05
          },
          "xaxis": {
           "automargin": true,
           "gridcolor": "white",
           "linecolor": "white",
           "ticks": "",
           "title": {
            "standoff": 15
           },
           "zerolinecolor": "white",
           "zerolinewidth": 2
          },
          "yaxis": {
           "automargin": true,
           "gridcolor": "white",
           "linecolor": "white",
           "ticks": "",
           "title": {
            "standoff": 15
           },
           "zerolinecolor": "white",
           "zerolinewidth": 2
          }
         }
        },
        "title": {
         "text": " Relationship between sales and Profit"
        },
        "xaxis": {
         "anchor": "y",
         "domain": [
          0,
          1
         ],
         "title": {
          "text": "Sales"
         }
        },
        "yaxis": {
         "anchor": "x",
         "domain": [
          0,
          1
         ],
         "title": {
          "text": "Profit"
         }
        }
       }
      }
     },
     "metadata": {},
     "output_type": "display_data"
    }
   ],
   "source": [
    "# Is there a relationship between sales and Profit\n",
    "dt = data[['Sales','Profit']]\n",
    "fig = pe.scatter(data_frame = dt, x = 'Sales', y = 'Profit', title=' Relationship between sales and Profit')\n",
    "fig.show()"
   ]
  },
  {
   "cell_type": "code",
   "execution_count": 9,
   "id": "d98837da",
   "metadata": {},
   "outputs": [
    {
     "data": {
      "text/html": [
       "<div>\n",
       "<style scoped>\n",
       "    .dataframe tbody tr th:only-of-type {\n",
       "        vertical-align: middle;\n",
       "    }\n",
       "\n",
       "    .dataframe tbody tr th {\n",
       "        vertical-align: top;\n",
       "    }\n",
       "\n",
       "    .dataframe thead th {\n",
       "        text-align: right;\n",
       "    }\n",
       "</style>\n",
       "<table border=\"1\" class=\"dataframe\">\n",
       "  <thead>\n",
       "    <tr style=\"text-align: right;\">\n",
       "      <th></th>\n",
       "      <th>Order Date</th>\n",
       "    </tr>\n",
       "    <tr>\n",
       "      <th>City</th>\n",
       "      <th></th>\n",
       "    </tr>\n",
       "  </thead>\n",
       "  <tbody>\n",
       "    <tr>\n",
       "      <th>New York City</th>\n",
       "      <td>743</td>\n",
       "    </tr>\n",
       "    <tr>\n",
       "      <th>Los Angeles</th>\n",
       "      <td>596</td>\n",
       "    </tr>\n",
       "    <tr>\n",
       "      <th>Philadelphia</th>\n",
       "      <td>443</td>\n",
       "    </tr>\n",
       "    <tr>\n",
       "      <th>San Francisco</th>\n",
       "      <td>417</td>\n",
       "    </tr>\n",
       "    <tr>\n",
       "      <th>Seattle</th>\n",
       "      <td>336</td>\n",
       "    </tr>\n",
       "    <tr>\n",
       "      <th>...</th>\n",
       "      <td>...</td>\n",
       "    </tr>\n",
       "    <tr>\n",
       "      <th>Commerce City</th>\n",
       "      <td>1</td>\n",
       "    </tr>\n",
       "    <tr>\n",
       "      <th>Vacaville</th>\n",
       "      <td>1</td>\n",
       "    </tr>\n",
       "    <tr>\n",
       "      <th>Waterloo</th>\n",
       "      <td>1</td>\n",
       "    </tr>\n",
       "    <tr>\n",
       "      <th>Abilene</th>\n",
       "      <td>1</td>\n",
       "    </tr>\n",
       "    <tr>\n",
       "      <th>Yucaipa</th>\n",
       "      <td>1</td>\n",
       "    </tr>\n",
       "  </tbody>\n",
       "</table>\n",
       "<p>502 rows × 1 columns</p>\n",
       "</div>"
      ],
      "text/plain": [
       "               Order Date\n",
       "City                     \n",
       "New York City         743\n",
       "Los Angeles           596\n",
       "Philadelphia          443\n",
       "San Francisco         417\n",
       "Seattle               336\n",
       "...                   ...\n",
       "Commerce City           1\n",
       "Vacaville               1\n",
       "Waterloo                1\n",
       "Abilene                 1\n",
       "Yucaipa                 1\n",
       "\n",
       "[502 rows x 1 columns]"
      ]
     },
     "execution_count": 9,
     "metadata": {},
     "output_type": "execute_result"
    }
   ],
   "source": [
    "# In what city do the company have the most orders.\n",
    "dt = data[['Order Date', 'City']]\n",
    "dt.groupby(['City'])[['Order Date']].count().sort_values(by= 'Order Date',ascending=False)"
   ]
  },
  {
   "cell_type": "code",
   "execution_count": 10,
   "id": "7a8e5c80",
   "metadata": {},
   "outputs": [
    {
     "data": {
      "text/html": [
       "<div>\n",
       "<style scoped>\n",
       "    .dataframe tbody tr th:only-of-type {\n",
       "        vertical-align: middle;\n",
       "    }\n",
       "\n",
       "    .dataframe tbody tr th {\n",
       "        vertical-align: top;\n",
       "    }\n",
       "\n",
       "    .dataframe thead th {\n",
       "        text-align: right;\n",
       "    }\n",
       "</style>\n",
       "<table border=\"1\" class=\"dataframe\">\n",
       "  <thead>\n",
       "    <tr style=\"text-align: right;\">\n",
       "      <th></th>\n",
       "      <th>City</th>\n",
       "    </tr>\n",
       "    <tr>\n",
       "      <th>Category</th>\n",
       "      <th></th>\n",
       "    </tr>\n",
       "  </thead>\n",
       "  <tbody>\n",
       "    <tr>\n",
       "      <th>Furniture</th>\n",
       "      <td>149</td>\n",
       "    </tr>\n",
       "    <tr>\n",
       "      <th>Office Supplies</th>\n",
       "      <td>453</td>\n",
       "    </tr>\n",
       "    <tr>\n",
       "      <th>Technology</th>\n",
       "      <td>141</td>\n",
       "    </tr>\n",
       "  </tbody>\n",
       "</table>\n",
       "</div>"
      ],
      "text/plain": [
       "                 City\n",
       "Category             \n",
       "Furniture         149\n",
       "Office Supplies   453\n",
       "Technology        141"
      ]
     },
     "execution_count": 10,
     "metadata": {},
     "output_type": "execute_result"
    }
   ],
   "source": [
    "# What product category is most ordered in this city\n",
    "dt = data[['Category','City']]\n",
    "dt = dt.loc[(dt.City == 'New York City')]\n",
    "dt.groupby(['Category']).count()"
   ]
  },
  {
   "cell_type": "code",
   "execution_count": 11,
   "id": "0596df43",
   "metadata": {},
   "outputs": [
    {
     "data": {
      "text/html": [
       "<div>\n",
       "<style scoped>\n",
       "    .dataframe tbody tr th:only-of-type {\n",
       "        vertical-align: middle;\n",
       "    }\n",
       "\n",
       "    .dataframe tbody tr th {\n",
       "        vertical-align: top;\n",
       "    }\n",
       "\n",
       "    .dataframe thead th {\n",
       "        text-align: right;\n",
       "    }\n",
       "</style>\n",
       "<table border=\"1\" class=\"dataframe\">\n",
       "  <thead>\n",
       "    <tr style=\"text-align: right;\">\n",
       "      <th></th>\n",
       "      <th></th>\n",
       "      <th>Sales</th>\n",
       "    </tr>\n",
       "    <tr>\n",
       "      <th>Segment</th>\n",
       "      <th>City</th>\n",
       "      <th></th>\n",
       "    </tr>\n",
       "  </thead>\n",
       "  <tbody>\n",
       "    <tr>\n",
       "      <th rowspan=\"11\" valign=\"top\">Consumer</th>\n",
       "      <th>Jamestown</th>\n",
       "      <td>4548.810</td>\n",
       "    </tr>\n",
       "    <tr>\n",
       "      <th>Harrisonburg</th>\n",
       "      <td>1441.300</td>\n",
       "    </tr>\n",
       "    <tr>\n",
       "      <th>Greenwood</th>\n",
       "      <td>1424.900</td>\n",
       "    </tr>\n",
       "    <tr>\n",
       "      <th>Bellingham</th>\n",
       "      <td>1345.370</td>\n",
       "    </tr>\n",
       "    <tr>\n",
       "      <th>Norman</th>\n",
       "      <td>1287.450</td>\n",
       "    </tr>\n",
       "    <tr>\n",
       "      <th>...</th>\n",
       "      <td>...</td>\n",
       "    </tr>\n",
       "    <tr>\n",
       "      <th>Ormond Beach</th>\n",
       "      <td>2.808</td>\n",
       "    </tr>\n",
       "    <tr>\n",
       "      <th>Port Saint Lucie</th>\n",
       "      <td>2.694</td>\n",
       "    </tr>\n",
       "    <tr>\n",
       "      <th>Pensacola</th>\n",
       "      <td>2.214</td>\n",
       "    </tr>\n",
       "    <tr>\n",
       "      <th>Jupiter</th>\n",
       "      <td>2.064</td>\n",
       "    </tr>\n",
       "    <tr>\n",
       "      <th>Abilene</th>\n",
       "      <td>1.392</td>\n",
       "    </tr>\n",
       "  </tbody>\n",
       "</table>\n",
       "<p>386 rows × 1 columns</p>\n",
       "</div>"
      ],
      "text/plain": [
       "                              Sales\n",
       "Segment  City                      \n",
       "Consumer Jamestown         4548.810\n",
       "         Harrisonburg      1441.300\n",
       "         Greenwood         1424.900\n",
       "         Bellingham        1345.370\n",
       "         Norman            1287.450\n",
       "...                             ...\n",
       "         Ormond Beach         2.808\n",
       "         Port Saint Lucie     2.694\n",
       "         Pensacola            2.214\n",
       "         Jupiter              2.064\n",
       "         Abilene              1.392\n",
       "\n",
       "[386 rows x 1 columns]"
      ]
     },
     "execution_count": 11,
     "metadata": {},
     "output_type": "execute_result"
    }
   ],
   "source": [
    "# What city sells the most Consumer Product\n",
    "dt = data[['City', 'Segment', 'Sales']]\n",
    "dt = dt.loc[(dt.Segment == 'Consumer')]\n",
    "dt.groupby(['Segment','City'])[['Sales']].mean().sort_values(by= 'Sales', ascending=False)"
   ]
  },
  {
   "cell_type": "code",
   "execution_count": 12,
   "id": "4b0c2807",
   "metadata": {},
   "outputs": [
    {
     "data": {
      "text/html": [
       "<div>\n",
       "<style scoped>\n",
       "    .dataframe tbody tr th:only-of-type {\n",
       "        vertical-align: middle;\n",
       "    }\n",
       "\n",
       "    .dataframe tbody tr th {\n",
       "        vertical-align: top;\n",
       "    }\n",
       "\n",
       "    .dataframe thead th {\n",
       "        text-align: right;\n",
       "    }\n",
       "</style>\n",
       "<table border=\"1\" class=\"dataframe\">\n",
       "  <thead>\n",
       "    <tr style=\"text-align: right;\">\n",
       "      <th></th>\n",
       "      <th></th>\n",
       "      <th>Sales</th>\n",
       "    </tr>\n",
       "    <tr>\n",
       "      <th>State</th>\n",
       "      <th>Sub-Category</th>\n",
       "      <th></th>\n",
       "    </tr>\n",
       "  </thead>\n",
       "  <tbody>\n",
       "    <tr>\n",
       "      <th>Alabama</th>\n",
       "      <th>Chairs</th>\n",
       "      <td>3915.540</td>\n",
       "    </tr>\n",
       "    <tr>\n",
       "      <th>Arizona</th>\n",
       "      <th>Chairs</th>\n",
       "      <td>6040.760</td>\n",
       "    </tr>\n",
       "    <tr>\n",
       "      <th>Arkansas</th>\n",
       "      <th>Chairs</th>\n",
       "      <td>1673.280</td>\n",
       "    </tr>\n",
       "    <tr>\n",
       "      <th>California</th>\n",
       "      <th>Chairs</th>\n",
       "      <td>50716.368</td>\n",
       "    </tr>\n",
       "    <tr>\n",
       "      <th>Colorado</th>\n",
       "      <th>Chairs</th>\n",
       "      <td>7579.344</td>\n",
       "    </tr>\n",
       "    <tr>\n",
       "      <th>Connecticut</th>\n",
       "      <th>Chairs</th>\n",
       "      <td>2782.420</td>\n",
       "    </tr>\n",
       "    <tr>\n",
       "      <th>Delaware</th>\n",
       "      <th>Chairs</th>\n",
       "      <td>1559.920</td>\n",
       "    </tr>\n",
       "    <tr>\n",
       "      <th>District of Columbia</th>\n",
       "      <th>Chairs</th>\n",
       "      <td>1267.530</td>\n",
       "    </tr>\n",
       "    <tr>\n",
       "      <th>Florida</th>\n",
       "      <th>Chairs</th>\n",
       "      <td>7174.624</td>\n",
       "    </tr>\n",
       "    <tr>\n",
       "      <th>Georgia</th>\n",
       "      <th>Chairs</th>\n",
       "      <td>1736.380</td>\n",
       "    </tr>\n",
       "    <tr>\n",
       "      <th>Idaho</th>\n",
       "      <th>Chairs</th>\n",
       "      <td>338.352</td>\n",
       "    </tr>\n",
       "    <tr>\n",
       "      <th>Illinois</th>\n",
       "      <th>Chairs</th>\n",
       "      <td>11283.104</td>\n",
       "    </tr>\n",
       "    <tr>\n",
       "      <th>Indiana</th>\n",
       "      <th>Chairs</th>\n",
       "      <td>4537.510</td>\n",
       "    </tr>\n",
       "    <tr>\n",
       "      <th>Iowa</th>\n",
       "      <th>Chairs</th>\n",
       "      <td>1408.100</td>\n",
       "    </tr>\n",
       "    <tr>\n",
       "      <th>Kentucky</th>\n",
       "      <th>Chairs</th>\n",
       "      <td>8531.610</td>\n",
       "    </tr>\n",
       "    <tr>\n",
       "      <th>Louisiana</th>\n",
       "      <th>Chairs</th>\n",
       "      <td>802.340</td>\n",
       "    </tr>\n",
       "    <tr>\n",
       "      <th>Maryland</th>\n",
       "      <th>Chairs</th>\n",
       "      <td>4056.940</td>\n",
       "    </tr>\n",
       "    <tr>\n",
       "      <th>Massachusetts</th>\n",
       "      <th>Chairs</th>\n",
       "      <td>2261.880</td>\n",
       "    </tr>\n",
       "    <tr>\n",
       "      <th>Michigan</th>\n",
       "      <th>Chairs</th>\n",
       "      <td>12610.160</td>\n",
       "    </tr>\n",
       "    <tr>\n",
       "      <th>Minnesota</th>\n",
       "      <th>Chairs</th>\n",
       "      <td>6079.370</td>\n",
       "    </tr>\n",
       "    <tr>\n",
       "      <th>Mississippi</th>\n",
       "      <th>Chairs</th>\n",
       "      <td>866.400</td>\n",
       "    </tr>\n",
       "    <tr>\n",
       "      <th>Nebraska</th>\n",
       "      <th>Chairs</th>\n",
       "      <td>563.940</td>\n",
       "    </tr>\n",
       "    <tr>\n",
       "      <th>Nevada</th>\n",
       "      <th>Chairs</th>\n",
       "      <td>674.352</td>\n",
       "    </tr>\n",
       "    <tr>\n",
       "      <th>New Jersey</th>\n",
       "      <th>Chairs</th>\n",
       "      <td>1948.780</td>\n",
       "    </tr>\n",
       "    <tr>\n",
       "      <th>New Mexico</th>\n",
       "      <th>Chairs</th>\n",
       "      <td>1114.192</td>\n",
       "    </tr>\n",
       "    <tr>\n",
       "      <th>New York</th>\n",
       "      <th>Chairs</th>\n",
       "      <td>32837.103</td>\n",
       "    </tr>\n",
       "    <tr>\n",
       "      <th>North Carolina</th>\n",
       "      <th>Chairs</th>\n",
       "      <td>1381.040</td>\n",
       "    </tr>\n",
       "    <tr>\n",
       "      <th>Ohio</th>\n",
       "      <th>Chairs</th>\n",
       "      <td>8773.842</td>\n",
       "    </tr>\n",
       "    <tr>\n",
       "      <th>Oklahoma</th>\n",
       "      <th>Chairs</th>\n",
       "      <td>2639.480</td>\n",
       "    </tr>\n",
       "    <tr>\n",
       "      <th>Oregon</th>\n",
       "      <th>Chairs</th>\n",
       "      <td>3841.160</td>\n",
       "    </tr>\n",
       "    <tr>\n",
       "      <th>Pennsylvania</th>\n",
       "      <th>Chairs</th>\n",
       "      <td>14791.861</td>\n",
       "    </tr>\n",
       "    <tr>\n",
       "      <th>Rhode Island</th>\n",
       "      <th>Chairs</th>\n",
       "      <td>3194.080</td>\n",
       "    </tr>\n",
       "    <tr>\n",
       "      <th>South Carolina</th>\n",
       "      <th>Chairs</th>\n",
       "      <td>2537.940</td>\n",
       "    </tr>\n",
       "    <tr>\n",
       "      <th>South Dakota</th>\n",
       "      <th>Chairs</th>\n",
       "      <td>182.940</td>\n",
       "    </tr>\n",
       "    <tr>\n",
       "      <th>Tennessee</th>\n",
       "      <th>Chairs</th>\n",
       "      <td>4759.088</td>\n",
       "    </tr>\n",
       "    <tr>\n",
       "      <th>Texas</th>\n",
       "      <th>Chairs</th>\n",
       "      <td>18660.159</td>\n",
       "    </tr>\n",
       "    <tr>\n",
       "      <th>Vermont</th>\n",
       "      <th>Chairs</th>\n",
       "      <td>715.200</td>\n",
       "    </tr>\n",
       "    <tr>\n",
       "      <th>Virginia</th>\n",
       "      <th>Chairs</th>\n",
       "      <td>4671.780</td>\n",
       "    </tr>\n",
       "    <tr>\n",
       "      <th>Washington</th>\n",
       "      <th>Chairs</th>\n",
       "      <td>14013.624</td>\n",
       "    </tr>\n",
       "    <tr>\n",
       "      <th>Wisconsin</th>\n",
       "      <th>Chairs</th>\n",
       "      <td>8563.540</td>\n",
       "    </tr>\n",
       "    <tr>\n",
       "      <th>Wyoming</th>\n",
       "      <th>Chairs</th>\n",
       "      <td>1603.136</td>\n",
       "    </tr>\n",
       "  </tbody>\n",
       "</table>\n",
       "</div>"
      ],
      "text/plain": [
       "                                       Sales\n",
       "State                Sub-Category           \n",
       "Alabama              Chairs         3915.540\n",
       "Arizona              Chairs         6040.760\n",
       "Arkansas             Chairs         1673.280\n",
       "California           Chairs        50716.368\n",
       "Colorado             Chairs         7579.344\n",
       "Connecticut          Chairs         2782.420\n",
       "Delaware             Chairs         1559.920\n",
       "District of Columbia Chairs         1267.530\n",
       "Florida              Chairs         7174.624\n",
       "Georgia              Chairs         1736.380\n",
       "Idaho                Chairs          338.352\n",
       "Illinois             Chairs        11283.104\n",
       "Indiana              Chairs         4537.510\n",
       "Iowa                 Chairs         1408.100\n",
       "Kentucky             Chairs         8531.610\n",
       "Louisiana            Chairs          802.340\n",
       "Maryland             Chairs         4056.940\n",
       "Massachusetts        Chairs         2261.880\n",
       "Michigan             Chairs        12610.160\n",
       "Minnesota            Chairs         6079.370\n",
       "Mississippi          Chairs          866.400\n",
       "Nebraska             Chairs          563.940\n",
       "Nevada               Chairs          674.352\n",
       "New Jersey           Chairs         1948.780\n",
       "New Mexico           Chairs         1114.192\n",
       "New York             Chairs        32837.103\n",
       "North Carolina       Chairs         1381.040\n",
       "Ohio                 Chairs         8773.842\n",
       "Oklahoma             Chairs         2639.480\n",
       "Oregon               Chairs         3841.160\n",
       "Pennsylvania         Chairs        14791.861\n",
       "Rhode Island         Chairs         3194.080\n",
       "South Carolina       Chairs         2537.940\n",
       "South Dakota         Chairs          182.940\n",
       "Tennessee            Chairs         4759.088\n",
       "Texas                Chairs        18660.159\n",
       "Vermont              Chairs          715.200\n",
       "Virginia             Chairs         4671.780\n",
       "Washington           Chairs        14013.624\n",
       "Wisconsin            Chairs         8563.540\n",
       "Wyoming              Chairs         1603.136"
      ]
     },
     "execution_count": 12,
     "metadata": {},
     "output_type": "execute_result"
    }
   ],
   "source": [
    "# What is the total sales made on Chairs in each state\n",
    "dt = data[['State','Sub-Category','Sales']]\n",
    "dt = dt.loc[(dt['Sub-Category'] == 'Chairs') ]\n",
    "dt.groupby(['State','Sub-Category'])[['Sales']].sum()"
   ]
  }
 ],
 "metadata": {
  "kernelspec": {
   "display_name": "jamkhad",
   "language": "python",
   "name": "python3"
  },
  "language_info": {
   "codemirror_mode": {
    "name": "ipython",
    "version": 3
   },
   "file_extension": ".py",
   "mimetype": "text/x-python",
   "name": "python",
   "nbconvert_exporter": "python",
   "pygments_lexer": "ipython3",
   "version": "3.11.0"
  }
 },
 "nbformat": 4,
 "nbformat_minor": 5
}
